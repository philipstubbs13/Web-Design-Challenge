{
 "cells": [
  {
   "cell_type": "code",
   "execution_count": 1,
   "metadata": {},
   "outputs": [],
   "source": [
    "# Dependencies\n",
    "import pandas as pd"
   ]
  },
  {
   "cell_type": "code",
   "execution_count": 2,
   "metadata": {},
   "outputs": [],
   "source": [
    "# Path to csv.\n",
    "csv_path = \"./Resources/us_videos.csv\"\n",
    "\n",
    "# Read csv into pandas.\n",
    "us_df = pd.read_csv(csv_path, encoding =\"ISO-8859-1\")"
   ]
  },
  {
   "cell_type": "code",
   "execution_count": 3,
   "metadata": {},
   "outputs": [
    {
     "data": {
      "text/html": [
       "<div>\n",
       "<style scoped>\n",
       "    .dataframe tbody tr th:only-of-type {\n",
       "        vertical-align: middle;\n",
       "    }\n",
       "\n",
       "    .dataframe tbody tr th {\n",
       "        vertical-align: top;\n",
       "    }\n",
       "\n",
       "    .dataframe thead th {\n",
       "        text-align: right;\n",
       "    }\n",
       "</style>\n",
       "<table border=\"1\" class=\"dataframe\">\n",
       "  <thead>\n",
       "    <tr style=\"text-align: right;\">\n",
       "      <th></th>\n",
       "      <th>Video ID</th>\n",
       "      <th>Trending Date</th>\n",
       "      <th>Duration</th>\n",
       "      <th>Title</th>\n",
       "      <th>Publish Time</th>\n",
       "      <th>Category ID</th>\n",
       "      <th>Comment Count</th>\n",
       "      <th>Likes</th>\n",
       "      <th>Views</th>\n",
       "    </tr>\n",
       "  </thead>\n",
       "  <tbody>\n",
       "    <tr>\n",
       "      <th>0</th>\n",
       "      <td>6V0UxqD57WI</td>\n",
       "      <td>20.19.01</td>\n",
       "      <td>PT4M51S</td>\n",
       "      <td>UFC 246: Conor McGregor Octagon Interview</td>\n",
       "      <td>2020-01-19T06:53:53.000Z</td>\n",
       "      <td>17</td>\n",
       "      <td>20392</td>\n",
       "      <td>130205</td>\n",
       "      <td>11675568</td>\n",
       "    </tr>\n",
       "    <tr>\n",
       "      <th>1</th>\n",
       "      <td>mhrkdHshb3E</td>\n",
       "      <td>20.19.01</td>\n",
       "      <td>PT30M18S</td>\n",
       "      <td>Crew Dragon Launch Escape Demonstration</td>\n",
       "      <td>2020-01-19T15:45:11.000Z</td>\n",
       "      <td>28</td>\n",
       "      <td>2042</td>\n",
       "      <td>45363</td>\n",
       "      <td>1403471</td>\n",
       "    </tr>\n",
       "    <tr>\n",
       "      <th>2</th>\n",
       "      <td>Np0tOnrfqoA</td>\n",
       "      <td>20.19.01</td>\n",
       "      <td>PT8M1S</td>\n",
       "      <td>Conor McGregor emotional after Cowboy Cerrone ...</td>\n",
       "      <td>2020-01-19T06:52:44.000Z</td>\n",
       "      <td>17</td>\n",
       "      <td>7267</td>\n",
       "      <td>39907</td>\n",
       "      <td>2233539</td>\n",
       "    </tr>\n",
       "    <tr>\n",
       "      <th>3</th>\n",
       "      <td>yYdynI_0N50</td>\n",
       "      <td>20.19.01</td>\n",
       "      <td>PT17M</td>\n",
       "      <td>Conor McGregor TKOs Cowboy Cerrone in under a ...</td>\n",
       "      <td>2020-01-19T06:17:02.000Z</td>\n",
       "      <td>17</td>\n",
       "      <td>1875</td>\n",
       "      <td>9653</td>\n",
       "      <td>3549681</td>\n",
       "    </tr>\n",
       "    <tr>\n",
       "      <th>4</th>\n",
       "      <td>mSzoLXlAZu4</td>\n",
       "      <td>20.19.01</td>\n",
       "      <td>PT9M28S</td>\n",
       "      <td>LAKERS at ROCKETS | FULL GAME HIGHLIGHTS | Jan...</td>\n",
       "      <td>2020-01-19T04:11:53.000Z</td>\n",
       "      <td>17</td>\n",
       "      <td>2385</td>\n",
       "      <td>9863</td>\n",
       "      <td>1334767</td>\n",
       "    </tr>\n",
       "  </tbody>\n",
       "</table>\n",
       "</div>"
      ],
      "text/plain": [
       "      Video ID Trending Date  Duration  \\\n",
       "0  6V0UxqD57WI      20.19.01   PT4M51S   \n",
       "1  mhrkdHshb3E      20.19.01  PT30M18S   \n",
       "2  Np0tOnrfqoA      20.19.01    PT8M1S   \n",
       "3  yYdynI_0N50      20.19.01     PT17M   \n",
       "4  mSzoLXlAZu4      20.19.01   PT9M28S   \n",
       "\n",
       "                                               Title  \\\n",
       "0          UFC 246: Conor McGregor Octagon Interview   \n",
       "1            Crew Dragon Launch Escape Demonstration   \n",
       "2  Conor McGregor emotional after Cowboy Cerrone ...   \n",
       "3  Conor McGregor TKOs Cowboy Cerrone in under a ...   \n",
       "4  LAKERS at ROCKETS | FULL GAME HIGHLIGHTS | Jan...   \n",
       "\n",
       "               Publish Time  Category ID  Comment Count   Likes     Views  \n",
       "0  2020-01-19T06:53:53.000Z           17          20392  130205  11675568  \n",
       "1  2020-01-19T15:45:11.000Z           28           2042   45363   1403471  \n",
       "2  2020-01-19T06:52:44.000Z           17           7267   39907   2233539  \n",
       "3  2020-01-19T06:17:02.000Z           17           1875    9653   3549681  \n",
       "4  2020-01-19T04:11:53.000Z           17           2385    9863   1334767  "
      ]
     },
     "execution_count": 3,
     "metadata": {},
     "output_type": "execute_result"
    }
   ],
   "source": [
    "# Only display the relevant columns.\n",
    "us_df = us_df[[\"video_id\", \"trending_date\", \"duration\", \"title\", \"publish_time\", \"category_id\", \"comment_count\", \"likes\", \"views\"]]\n",
    "\n",
    "# For web page performance, only getting the first 30 rows of data to display.\n",
    "# TODO: Figure out pagination with bootstrap tables to display all the data.\n",
    "us_df = us_df[:50]\n",
    "\n",
    "us_df = us_df.rename(columns={\n",
    "    \"video_id\": \"Video ID\",\n",
    "    \"trending_date\": \"Trending Date\",\n",
    "    \"duration\": \"Duration\",\n",
    "    \"title\": \"Title\",\n",
    "    \"publish_time\": \"Publish Time\",\n",
    "    \"category_id\": \"Category ID\",\n",
    "    \"comment_count\": \"Comment Count\",\n",
    "    \"likes\": \"Likes\",\n",
    "    \"views\": \"Views\",\n",
    "})\n",
    "\n",
    "us_df.head()"
   ]
  },
  {
   "cell_type": "code",
   "execution_count": 7,
   "metadata": {},
   "outputs": [
    {
     "data": {
      "text/plain": [
       "'<table border=\"1\" class=\"dataframe\">\\n  <thead>\\n    <tr style=\"text-align: right;\">\\n      <th>Video ID</th>\\n      <th>Trending Date</th>\\n      <th>Duration</th>\\n      <th>Title</th>\\n      <th>Publish Time</th>\\n      <th>Category ID</th>\\n      <th>Comment Count</th>\\n      <th>Likes</th>\\n      <th>Views</th>\\n    </tr>\\n  </thead>\\n  <tbody>\\n    <tr>\\n      <td>6V0UxqD57WI</td>\\n      <td>20.19.01</td>\\n      <td>PT4M51S</td>\\n      <td>UFC 246: Conor McGregor Octagon Interview</td>\\n      <td>2020-01-19T06:53:53.000Z</td>\\n      <td>17</td>\\n      <td>20392</td>\\n      <td>130205</td>\\n      <td>11675568</td>\\n    </tr>\\n    <tr>\\n      <td>mhrkdHshb3E</td>\\n      <td>20.19.01</td>\\n      <td>PT30M18S</td>\\n      <td>Crew Dragon Launch Escape Demonstration</td>\\n      <td>2020-01-19T15:45:11.000Z</td>\\n      <td>28</td>\\n      <td>2042</td>\\n      <td>45363</td>\\n      <td>1403471</td>\\n    </tr>\\n    <tr>\\n      <td>Np0tOnrfqoA</td>\\n      <td>20.19.01</td>\\n      <td>PT8M1S</td>\\n      <td>Conor McGregor emotional after Cowboy Cerrone TKO win at UFC 246 | ESPN MMA</td>\\n      <td>2020-01-19T06:52:44.000Z</td>\\n      <td>17</td>\\n      <td>7267</td>\\n      <td>39907</td>\\n      <td>2233539</td>\\n    </tr>\\n    <tr>\\n      <td>yYdynI_0N50</td>\\n      <td>20.19.01</td>\\n      <td>PT17M</td>\\n      <td>Conor McGregor TKOs Cowboy Cerrone in under a minute in return | Post Match Analysis | CBS Sports HQ</td>\\n      <td>2020-01-19T06:17:02.000Z</td>\\n      <td>17</td>\\n      <td>1875</td>\\n      <td>9653</td>\\n      <td>3549681</td>\\n    </tr>\\n    <tr>\\n      <td>mSzoLXlAZu4</td>\\n      <td>20.19.01</td>\\n      <td>PT9M28S</td>\\n      <td>LAKERS at ROCKETS | FULL GAME HIGHLIGHTS | January 18, 2020</td>\\n      <td>2020-01-19T04:11:53.000Z</td>\\n      <td>17</td>\\n      <td>2385</td>\\n      <td>9863</td>\\n      <td>1334767</td>\\n    </tr>\\n    <tr>\\n      <td>8lUqamSaLYE</td>\\n      <td>20.19.01</td>\\n      <td>PT11M31S</td>\\n      <td>I Tested VIRAL TikTok Life Hacks to see if they work</td>\\n      <td>2020-01-18T20:26:31.000Z</td>\\n      <td>24</td>\\n      <td>5916</td>\\n      <td>59608</td>\\n      <td>3077021</td>\\n    </tr>\\n    <tr>\\n      <td>da6_LjiIzXk</td>\\n      <td>20.19.01</td>\\n      <td>PT10M32S</td>\\n      <td>Florida Man Runs to Bermuda in a Giant Bubble | WTFLORIDA</td>\\n      <td>2020-01-19T16:00:12.000Z</td>\\n      <td>24</td>\\n      <td>4927</td>\\n      <td>22629</td>\\n      <td>838746</td>\\n    </tr>\\n    <tr>\\n      <td>zR9q5iU-gJU</td>\\n      <td>20.19.01</td>\\n      <td>PT7M39S</td>\\n      <td>[BANGTAN BOMB] BTS \\'Black Swan\\' Art Film Reaction - BTS (ë°©í\\x83\\x84ì\\x86\\x8cë\\x85\\x84ë\\x8b¨)</td>\\n      <td>2020-01-19T09:00:00.000Z</td>\\n      <td>10</td>\\n      <td>27491</td>\\n      <td>718916</td>\\n      <td>3536237</td>\\n    </tr>\\n    <tr>\\n      <td>B8PuOS0J6Ro</td>\\n      <td>20.19.01</td>\\n      <td>PT14M13S</td>\\n      <td>Unlucky Inventors Who Never Got to Cash in On Their Creations</td>\\n      <td>2020-01-19T14:00:01.000Z</td>\\n      <td>27</td>\\n      <td>508</td>\\n      <td>4472</td>\\n      <td>205804</td>\\n    </tr>\\n    <tr>\\n      <td>Sgwt2mahKW4</td>\\n      <td>20.19.01</td>\\n      <td>PT39S</td>\\n      <td>Jorge Masvidal and Donald \"Cowboy\" Cerrone Cross Paths Backstage At UFC 246</td>\\n      <td>2020-01-19T17:12:04.000Z</td>\\n      <td>17</td>\\n      <td>1014</td>\\n      <td>10474</td>\\n      <td>257725</td>\\n    </tr>\\n    <tr>\\n      <td>0S-oq2iiYuk</td>\\n      <td>20.19.01</td>\\n      <td>PT42M15S</td>\\n      <td>Bring It!: Coach D Resigns (Season 4, Episode 22) | Full Episode | Lifetime</td>\\n      <td>2020-01-18T22:59:52.000Z</td>\\n      <td>24</td>\\n      <td>648</td>\\n      <td>9506</td>\\n      <td>379702</td>\\n    </tr>\\n    <tr>\\n      <td>O6UedmnRJc0</td>\\n      <td>20.19.01</td>\\n      <td>PT17M16S</td>\\n      <td>I Went Vegan for 30 Days. Health Results Shocked Me</td>\\n      <td>2020-01-19T18:00:02.000Z</td>\\n      <td>24</td>\\n      <td>2667</td>\\n      <td>25417</td>\\n      <td>420890</td>\\n    </tr>\\n    <tr>\\n      <td>0UF4FIEGQhw</td>\\n      <td>20.19.01</td>\\n      <td>PT5M3S</td>\\n      <td>Just how good is Conor McGregor?</td>\\n      <td>2020-01-19T09:54:58.000Z</td>\\n      <td>24</td>\\n      <td>3269</td>\\n      <td>15797</td>\\n      <td>445944</td>\\n    </tr>\\n    <tr>\\n      <td>H-sE_PPifTQ</td>\\n      <td>20.19.01</td>\\n      <td>PT6M12S</td>\\n      <td>Stephen A.: I got hit more than Conor McGregor in the last week than he did | SportsCenter</td>\\n      <td>2020-01-19T06:45:01.000Z</td>\\n      <td>17</td>\\n      <td>3264</td>\\n      <td>15603</td>\\n      <td>1040003</td>\\n    </tr>\\n    <tr>\\n      <td>ARIZnaMXTEU</td>\\n      <td>20.19.01</td>\\n      <td>PT31M34S</td>\\n      <td>SpaceX Crew Dragon In-Flight Abort Test</td>\\n      <td>2020-01-19T15:48:24.000Z</td>\\n      <td>28</td>\\n      <td>501</td>\\n      <td>11159</td>\\n      <td>310505</td>\\n    </tr>\\n    <tr>\\n      <td>p9cYcoBCLEo</td>\\n      <td>20.19.01</td>\\n      <td>PT26M27S</td>\\n      <td>i made pozole rojo (mexican soup)</td>\\n      <td>2020-01-19T17:27:02.000Z</td>\\n      <td>24</td>\\n      <td>4045</td>\\n      <td>30950</td>\\n      <td>307321</td>\\n    </tr>\\n    <tr>\\n      <td>LwRd26A9CdA</td>\\n      <td>20.19.01</td>\\n      <td>PT14M20S</td>\\n      <td>The Worldâ\\x80\\x99s FASTEST Chest Workout (INTENSE!)</td>\\n      <td>2020-01-19T18:05:56.000Z</td>\\n      <td>26</td>\\n      <td>1343</td>\\n      <td>15074</td>\\n      <td>223709</td>\\n    </tr>\\n    <tr>\\n      <td>mLFIl67I4xE</td>\\n      <td>20.19.01</td>\\n      <td>PT3M32S</td>\\n      <td>Owner Tries Cooking Soul Food In A Wok &amp; PIzza Oven | Kitchen Nightmares</td>\\n      <td>2020-01-19T17:00:11.000Z</td>\\n      <td>24</td>\\n      <td>535</td>\\n      <td>5125</td>\\n      <td>248120</td>\\n    </tr>\\n    <tr>\\n      <td>LdMx2U5tby0</td>\\n      <td>20.19.01</td>\\n      <td>PT17M59S</td>\\n      <td>$60,000 Extreme Hide And Seek - Challenge</td>\\n      <td>2020-01-17T21:00:01.000Z</td>\\n      <td>24</td>\\n      <td>24851</td>\\n      <td>603510</td>\\n      <td>11137984</td>\\n    </tr>\\n    <tr>\\n      <td>vp1CXsL3-7c</td>\\n      <td>20.19.01</td>\\n      <td>PT20M12S</td>\\n      <td>MASSIVE PANCAKE! Chinese STREET FOOD in Seoul CHINATOWN Tour</td>\\n      <td>2020-01-19T16:30:16.000Z</td>\\n      <td>19</td>\\n      <td>673</td>\\n      <td>10543</td>\\n      <td>289234</td>\\n    </tr>\\n    <tr>\\n      <td>uv2u1HvfpaE</td>\\n      <td>20.19.01</td>\\n      <td>PT5M26S</td>\\n      <td>Trying Dumb LIFE HACKS to see if they work</td>\\n      <td>2020-01-19T10:03:44.000Z</td>\\n      <td>24</td>\\n      <td>279</td>\\n      <td>6850</td>\\n      <td>190511</td>\\n    </tr>\\n    <tr>\\n      <td>oiNNyRujNK0</td>\\n      <td>20.19.01</td>\\n      <td>PT6M17S</td>\\n      <td>Loudest Royal Rumble Match pops: WWE Top 10, Jan. 19, 2020</td>\\n      <td>2020-01-19T15:00:10.000Z</td>\\n      <td>17</td>\\n      <td>2695</td>\\n      <td>37171</td>\\n      <td>1115154</td>\\n    </tr>\\n    <tr>\\n      <td>J-werwF6PQI</td>\\n      <td>20.19.01</td>\\n      <td>PT10M40S</td>\\n      <td>Top 10 Reasons Why Cats is the WORST</td>\\n      <td>2020-01-19T02:00:01.000Z</td>\\n      <td>24</td>\\n      <td>2256</td>\\n      <td>7576</td>\\n      <td>370040</td>\\n    </tr>\\n    <tr>\\n      <td>gn5iRe-a7i4</td>\\n      <td>20.19.01</td>\\n      <td>PT16M57S</td>\\n      <td>ROTARY Swapped Mystery Machine EP.3 - FIRST START UP!!!! Turbo Rotary Engine Comes to Life!</td>\\n      <td>2020-01-18T15:43:33.000Z</td>\\n      <td>1</td>\\n      <td>2700</td>\\n      <td>42897</td>\\n      <td>957550</td>\\n    </tr>\\n    <tr>\\n      <td>0SYQFtU8CUo</td>\\n      <td>20.19.01</td>\\n      <td>PT10M45S</td>\\n      <td>Supercross Round #3 at Anaheim | 450SX EXTENDED HIGHLIGHTS | Motorsports on NBC</td>\\n      <td>2020-01-19T07:19:12.000Z</td>\\n      <td>17</td>\\n      <td>120</td>\\n      <td>1840</td>\\n      <td>178175</td>\\n    </tr>\\n    <tr>\\n      <td>nbqMIBYJlvk</td>\\n      <td>20.19.01</td>\\n      <td>PT3M31S</td>\\n      <td>Godzilla</td>\\n      <td>2020-01-17T05:01:53.000Z</td>\\n      <td>10</td>\\n      <td>20426</td>\\n      <td>288831</td>\\n      <td>5909436</td>\\n    </tr>\\n    <tr>\\n      <td>_LykXXJnf_8</td>\\n      <td>20.19.01</td>\\n      <td>PT3M4S</td>\\n      <td>Erling Haaland scores 23-minute hat trick in Borussia Dortmund debut | 2020 Bundesliga Highlights</td>\\n      <td>2020-01-18T23:54:00.000Z</td>\\n      <td>17</td>\\n      <td>771</td>\\n      <td>8628</td>\\n      <td>683339</td>\\n    </tr>\\n    <tr>\\n      <td>8vz4b53tnCM</td>\\n      <td>20.19.01</td>\\n      <td>PT3M35S</td>\\n      <td>Polo G, Lil Tjay - First Place (Official Video) ð\\x9f\\x8e¥By Ryan Lynch</td>\\n      <td>2020-01-17T16:00:11.000Z</td>\\n      <td>10</td>\\n      <td>10144</td>\\n      <td>155112</td>\\n      <td>2136286</td>\\n    </tr>\\n    <tr>\\n      <td>0-NeCgZrl-g</td>\\n      <td>20.19.01</td>\\n      <td>PT58S</td>\\n      <td>GUILTY GEAR -STRIVE- Trailer#2 - Frosty Faustings XII 2020</td>\\n      <td>2020-01-19T06:08:36.000Z</td>\\n      <td>20</td>\\n      <td>1150</td>\\n      <td>9944</td>\\n      <td>274063</td>\\n    </tr>\\n    <tr>\\n      <td>etSlHgy7mI4</td>\\n      <td>20.19.01</td>\\n      <td>PT16M18S</td>\\n      <td>Southampton v. Wolves | PREMIER LEAGUE HIGHLIGHTS | 1/18/2020 | NBC Sports</td>\\n      <td>2020-01-18T18:57:03.000Z</td>\\n      <td>17</td>\\n      <td>467</td>\\n      <td>3022</td>\\n      <td>268529</td>\\n    </tr>\\n    <tr>\\n      <td>3E6RWZ1ceWw</td>\\n      <td>20.19.01</td>\\n      <td>PT16M39S</td>\\n      <td>ð\\x9f\\x9a¨ Best Of Hood Jeopardy ð\\x9f\\x98\\x82 Wildest Jokes, Craziest Answers &amp; More ð\\x9f\\x99\\x8c Wild \\'N Out</td>\\n      <td>2020-01-17T21:00:00.000Z</td>\\n      <td>24</td>\\n      <td>1299</td>\\n      <td>51866</td>\\n      <td>1892840</td>\\n    </tr>\\n    <tr>\\n      <td>roEx5IyZAAY</td>\\n      <td>20.19.01</td>\\n      <td>PT5M20S</td>\\n      <td>Deltaâ\\x80\\x99s Jet Fuel Dump, Divorce Trial by Combat &amp; Elizabeth Warrenâ\\x80\\x99s Handshake Diss | The Daily Show</td>\\n      <td>2020-01-18T14:00:17.000Z</td>\\n      <td>23</td>\\n      <td>1760</td>\\n      <td>14985</td>\\n      <td>828057</td>\\n    </tr>\\n    <tr>\\n      <td>xUqoNH8qST8</td>\\n      <td>20.19.01</td>\\n      <td>PT10M5S</td>\\n      <td>We Try the Ultimate Real vs Candy Challenge</td>\\n      <td>2020-01-18T13:00:09.000Z</td>\\n      <td>24</td>\\n      <td>2490</td>\\n      <td>17702</td>\\n      <td>991032</td>\\n    </tr>\\n    <tr>\\n      <td>okKiieF0oM4</td>\\n      <td>20.19.01</td>\\n      <td>PT19M33S</td>\\n      <td>The Try Guys Try Dungeons And Dragons</td>\\n      <td>2020-01-18T16:00:09.000Z</td>\\n      <td>23</td>\\n      <td>5276</td>\\n      <td>67125</td>\\n      <td>1120048</td>\\n    </tr>\\n    <tr>\\n      <td>ZnGMxARIxoY</td>\\n      <td>20.19.01</td>\\n      <td>PT4M24S</td>\\n      <td>Jhanjar (Full Video) Karan Aujla | Desi Crew | Latest Punjabi Songs 2020</td>\\n      <td>2020-01-18T12:30:13.000Z</td>\\n      <td>10</td>\\n      <td>33677</td>\\n      <td>451674</td>\\n      <td>7319166</td>\\n    </tr>\\n    <tr>\\n      <td>XejVB_fba04</td>\\n      <td>20.19.01</td>\\n      <td>PT3M41S</td>\\n      <td>Jonas Brothers - What A Man Gotta Do (Official Video)</td>\\n      <td>2020-01-17T05:00:11.000Z</td>\\n      <td>10</td>\\n      <td>22130</td>\\n      <td>701346</td>\\n      <td>15893888</td>\\n    </tr>\\n    <tr>\\n      <td>X089oYPc5Pg</td>\\n      <td>20.19.01</td>\\n      <td>PT12M3S</td>\\n      <td>Appleâ\\x80\\x99s Pro Display XDR â\\x80\\x93 A PC Guyâ\\x80\\x99s Perspective</td>\\n      <td>2020-01-18T19:59:29.000Z</td>\\n      <td>28</td>\\n      <td>4265</td>\\n      <td>55128</td>\\n      <td>1484273</td>\\n    </tr>\\n    <tr>\\n      <td>#NAME?</td>\\n      <td>20.19.01</td>\\n      <td>PT26M48S</td>\\n      <td>Navy SEAL Jocko Willink Breaks Down Combat Scenes From Movies | GQ</td>\\n      <td>2020-01-17T17:00:08.000Z</td>\\n      <td>24</td>\\n      <td>5043</td>\\n      <td>77128</td>\\n      <td>2771365</td>\\n    </tr>\\n    <tr>\\n      <td>iZWp2VNfxfU</td>\\n      <td>20.19.01</td>\\n      <td>PT10M38S</td>\\n      <td>STARTING A NEW FIRE ANT COLONY | REBIRTH OF THE FIRE ANTS</td>\\n      <td>2020-01-18T13:00:14.000Z</td>\\n      <td>15</td>\\n      <td>7261</td>\\n      <td>41247</td>\\n      <td>570015</td>\\n    </tr>\\n    <tr>\\n      <td>plZRcVtIIXI</td>\\n      <td>20.19.01</td>\\n      <td>PT11M33S</td>\\n      <td>Most Expensive Works of Art Destroyed By Tourists</td>\\n      <td>2020-01-18T21:10:00.000Z</td>\\n      <td>27</td>\\n      <td>1203</td>\\n      <td>11662</td>\\n      <td>501847</td>\\n    </tr>\\n    <tr>\\n      <td>qdkQGQAqm3c</td>\\n      <td>20.19.01</td>\\n      <td>PT6M43S</td>\\n      <td>#BlackChicagoBeLikePart78ð\\x9f\\x98©FT. Hilarious Tiera, Skinbone, &amp; Big Twonð\\x9f¤\\x98ð\\x9f\\x8f¿</td>\\n      <td>2020-01-18T00:00:36.000Z</td>\\n      <td>24</td>\\n      <td>1931</td>\\n      <td>31888</td>\\n      <td>539665</td>\\n    </tr>\\n    <tr>\\n      <td>8xLc9fXtFHg</td>\\n      <td>20.19.01</td>\\n      <td>PT20M6S</td>\\n      <td>Recreating Instagram Filters Using Makeup!</td>\\n      <td>2020-01-17T20:00:50.000Z</td>\\n      <td>24</td>\\n      <td>6332</td>\\n      <td>92201</td>\\n      <td>1710230</td>\\n    </tr>\\n    <tr>\\n      <td>0XiFiYPxEQY</td>\\n      <td>20.19.01</td>\\n      <td>PT5M49S</td>\\n      <td>Something About MHW Iceborne ANIMATED (Loud Sound Warning) â\\x9d\\x84ï¸\\x8fð\\x9f\\x90\\x9f</td>\\n      <td>2020-01-17T16:42:12.000Z</td>\\n      <td>20</td>\\n      <td>6627</td>\\n      <td>70962</td>\\n      <td>938390</td>\\n    </tr>\\n    <tr>\\n      <td>bzuLbnwCZjM</td>\\n      <td>20.19.01</td>\\n      <td>PT12M37S</td>\\n      <td>We Left Teeth In Coke For A Week (EXPERIMENT)</td>\\n      <td>2020-01-17T11:00:09.000Z</td>\\n      <td>24</td>\\n      <td>510</td>\\n      <td>11655</td>\\n      <td>617116</td>\\n    </tr>\\n    <tr>\\n      <td>8Cn-lsWTZdw</td>\\n      <td>20.19.01</td>\\n      <td>PT16M23S</td>\\n      <td>Justin Bieber Why</td>\\n      <td>2020-01-16T19:00:00.000Z</td>\\n      <td>23</td>\\n      <td>21142</td>\\n      <td>238124</td>\\n      <td>2856739</td>\\n    </tr>\\n    <tr>\\n      <td>xZz5frLhjN8</td>\\n      <td>20.19.01</td>\\n      <td>PT27M17S</td>\\n      <td>Deep Cleaning a SMOKER\\'S Dirty Car | DISASTER Car Detailing &amp; Complete Vehicle Transformation!</td>\\n      <td>2020-01-17T14:00:10.000Z</td>\\n      <td>2</td>\\n      <td>4242</td>\\n      <td>30799</td>\\n      <td>877074</td>\\n    </tr>\\n    <tr>\\n      <td>d5XTDmm0KUQ</td>\\n      <td>20.19.01</td>\\n      <td>PT1H12M20S</td>\\n      <td>Joe Rogan Experience #1411 - Robert Downey Jr.</td>\\n      <td>2020-01-15T20:00:04.000Z</td>\\n      <td>22</td>\\n      <td>26248</td>\\n      <td>180838</td>\\n      <td>6329584</td>\\n    </tr>\\n    <tr>\\n      <td>DTVmfVb7PvM</td>\\n      <td>20.19.01</td>\\n      <td>PT20M6S</td>\\n      <td>ASMR Toaster Coaster ONLY! | Tapping &amp; Scratching</td>\\n      <td>2020-01-17T02:09:44.000Z</td>\\n      <td>22</td>\\n      <td>2118</td>\\n      <td>15923</td>\\n      <td>469306</td>\\n    </tr>\\n    <tr>\\n      <td>HWRRik0hcgQ</td>\\n      <td>20.19.01</td>\\n      <td>PT21M7S</td>\\n      <td>Jorge Masvidal talks Conor McGregor, Kamaru Usman and predicts UFC 246 Main Event</td>\\n      <td>2020-01-16T20:11:14.000Z</td>\\n      <td>17</td>\\n      <td>5235</td>\\n      <td>15459</td>\\n      <td>1137923</td>\\n    </tr>\\n    <tr>\\n      <td>4SL8XgDkaX8</td>\\n      <td>20.19.01</td>\\n      <td>PT10M58S</td>\\n      <td>I HAVE A FORTNITE SKIN!!! #ninjaskin</td>\\n      <td>2020-01-15T17:21:33.000Z</td>\\n      <td>20</td>\\n      <td>31815</td>\\n      <td>482901</td>\\n      <td>7861194</td>\\n    </tr>\\n  </tbody>\\n</table>'"
      ]
     },
     "execution_count": 7,
     "metadata": {},
     "output_type": "execute_result"
    }
   ],
   "source": [
    "html_table = us_df.to_html(index=False)\n",
    "html_table"
   ]
  },
  {
   "cell_type": "code",
   "execution_count": 8,
   "metadata": {},
   "outputs": [],
   "source": [
    "html_table = html_table.replace('\\n', '')"
   ]
  },
  {
   "cell_type": "code",
   "execution_count": 9,
   "metadata": {},
   "outputs": [],
   "source": [
    "# Write html to file.\n",
    "with open(\"./youtube-analysis-app/src/data/data-table.html\", \"w\", encoding=\"utf-8\") as f:\n",
    "    f.write(html_table)"
   ]
  },
  {
   "cell_type": "code",
   "execution_count": null,
   "metadata": {},
   "outputs": [],
   "source": []
  }
 ],
 "metadata": {
  "kernelspec": {
   "display_name": "Python 3",
   "language": "python",
   "name": "python3"
  },
  "language_info": {
   "codemirror_mode": {
    "name": "ipython",
    "version": 3
   },
   "file_extension": ".py",
   "mimetype": "text/x-python",
   "name": "python",
   "nbconvert_exporter": "python",
   "pygments_lexer": "ipython3",
   "version": "3.6.9"
  }
 },
 "nbformat": 4,
 "nbformat_minor": 2
}
